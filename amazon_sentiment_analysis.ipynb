{
 "cells": [
  {
   "cell_type": "markdown",
   "id": "b7a66f08-f0ed-49d2-87bc-3236b050f11b",
   "metadata": {},
   "source": [
    "# Amazon Sentiment Analysis\n",
    "\n",
    "## Author: Daniel Antantis"
   ]
  },
  {
   "cell_type": "code",
   "execution_count": 166,
   "id": "9c491bd0-a713-4276-b795-1aedfe513b5b",
   "metadata": {},
   "outputs": [],
   "source": [
    "import matplotlib.pyplot as plt\n",
    "import pandas as pd\n",
    "import numpy as np\n",
    "import seaborn as sns\n",
    "from sklearn.model_selection import train_test_split\n",
    "from sklearn.linear_model import LogisticRegression\n",
    "from sklearn.feature_extraction.text import TfidfVectorizer\n",
    "from sklearn.metrics import confusion_matrix\n",
    "from sklearn.neighbors import KNeighborsClassifier\n",
    "from sklearn.pipeline import Pipeline\n",
    "from sklearn.model_selection import GridSearchCV"
   ]
  },
  {
   "cell_type": "code",
   "execution_count": 167,
   "id": "09dab610-d766-4e4f-a576-7724f9237a3d",
   "metadata": {},
   "outputs": [
    {
     "name": "stderr",
     "output_type": "stream",
     "text": [
      "/Users/danielantantis/opt/anaconda3/lib/python3.9/site-packages/IPython/core/interactiveshell.py:3444: DtypeWarning: Columns (1,10) have mixed types.Specify dtype option on import or set low_memory=False.\n",
      "  exec(code_obj, self.user_global_ns, self.user_ns)\n"
     ]
    },
    {
     "data": {
      "text/html": [
       "<div>\n",
       "<style scoped>\n",
       "    .dataframe tbody tr th:only-of-type {\n",
       "        vertical-align: middle;\n",
       "    }\n",
       "\n",
       "    .dataframe tbody tr th {\n",
       "        vertical-align: top;\n",
       "    }\n",
       "\n",
       "    .dataframe thead th {\n",
       "        text-align: right;\n",
       "    }\n",
       "</style>\n",
       "<table border=\"1\" class=\"dataframe\">\n",
       "  <thead>\n",
       "    <tr style=\"text-align: right;\">\n",
       "      <th></th>\n",
       "      <th>id</th>\n",
       "      <th>name</th>\n",
       "      <th>asins</th>\n",
       "      <th>brand</th>\n",
       "      <th>categories</th>\n",
       "      <th>keys</th>\n",
       "      <th>manufacturer</th>\n",
       "      <th>reviews.date</th>\n",
       "      <th>reviews.dateAdded</th>\n",
       "      <th>reviews.dateSeen</th>\n",
       "      <th>...</th>\n",
       "      <th>reviews.doRecommend</th>\n",
       "      <th>reviews.id</th>\n",
       "      <th>reviews.numHelpful</th>\n",
       "      <th>reviews.rating</th>\n",
       "      <th>reviews.sourceURLs</th>\n",
       "      <th>reviews.text</th>\n",
       "      <th>reviews.title</th>\n",
       "      <th>reviews.userCity</th>\n",
       "      <th>reviews.userProvince</th>\n",
       "      <th>reviews.username</th>\n",
       "    </tr>\n",
       "  </thead>\n",
       "  <tbody>\n",
       "    <tr>\n",
       "      <th>0</th>\n",
       "      <td>AVqkIhwDv8e3D1O-lebb</td>\n",
       "      <td>All-New Fire HD 8 Tablet, 8 HD Display, Wi-Fi,...</td>\n",
       "      <td>B01AHB9CN2</td>\n",
       "      <td>Amazon</td>\n",
       "      <td>Electronics,iPad &amp; Tablets,All Tablets,Fire Ta...</td>\n",
       "      <td>841667104676,amazon/53004484,amazon/b01ahb9cn2...</td>\n",
       "      <td>Amazon</td>\n",
       "      <td>2017-01-13T00:00:00.000Z</td>\n",
       "      <td>2017-07-03T23:33:15Z</td>\n",
       "      <td>2017-06-07T09:04:00.000Z,2017-04-30T00:45:00.000Z</td>\n",
       "      <td>...</td>\n",
       "      <td>True</td>\n",
       "      <td>NaN</td>\n",
       "      <td>0.0</td>\n",
       "      <td>5.0</td>\n",
       "      <td>http://reviews.bestbuy.com/3545/5620406/review...</td>\n",
       "      <td>This product so far has not disappointed. My c...</td>\n",
       "      <td>Kindle</td>\n",
       "      <td>NaN</td>\n",
       "      <td>NaN</td>\n",
       "      <td>Adapter</td>\n",
       "    </tr>\n",
       "    <tr>\n",
       "      <th>1</th>\n",
       "      <td>AVqkIhwDv8e3D1O-lebb</td>\n",
       "      <td>All-New Fire HD 8 Tablet, 8 HD Display, Wi-Fi,...</td>\n",
       "      <td>B01AHB9CN2</td>\n",
       "      <td>Amazon</td>\n",
       "      <td>Electronics,iPad &amp; Tablets,All Tablets,Fire Ta...</td>\n",
       "      <td>841667104676,amazon/53004484,amazon/b01ahb9cn2...</td>\n",
       "      <td>Amazon</td>\n",
       "      <td>2017-01-13T00:00:00.000Z</td>\n",
       "      <td>2017-07-03T23:33:15Z</td>\n",
       "      <td>2017-06-07T09:04:00.000Z,2017-04-30T00:45:00.000Z</td>\n",
       "      <td>...</td>\n",
       "      <td>True</td>\n",
       "      <td>NaN</td>\n",
       "      <td>0.0</td>\n",
       "      <td>5.0</td>\n",
       "      <td>http://reviews.bestbuy.com/3545/5620406/review...</td>\n",
       "      <td>great for beginner or experienced person. Boug...</td>\n",
       "      <td>very fast</td>\n",
       "      <td>NaN</td>\n",
       "      <td>NaN</td>\n",
       "      <td>truman</td>\n",
       "    </tr>\n",
       "    <tr>\n",
       "      <th>2</th>\n",
       "      <td>AVqkIhwDv8e3D1O-lebb</td>\n",
       "      <td>All-New Fire HD 8 Tablet, 8 HD Display, Wi-Fi,...</td>\n",
       "      <td>B01AHB9CN2</td>\n",
       "      <td>Amazon</td>\n",
       "      <td>Electronics,iPad &amp; Tablets,All Tablets,Fire Ta...</td>\n",
       "      <td>841667104676,amazon/53004484,amazon/b01ahb9cn2...</td>\n",
       "      <td>Amazon</td>\n",
       "      <td>2017-01-13T00:00:00.000Z</td>\n",
       "      <td>2017-07-03T23:33:15Z</td>\n",
       "      <td>2017-06-07T09:04:00.000Z,2017-04-30T00:45:00.000Z</td>\n",
       "      <td>...</td>\n",
       "      <td>True</td>\n",
       "      <td>NaN</td>\n",
       "      <td>0.0</td>\n",
       "      <td>5.0</td>\n",
       "      <td>http://reviews.bestbuy.com/3545/5620406/review...</td>\n",
       "      <td>Inexpensive tablet for him to use and learn on...</td>\n",
       "      <td>Beginner tablet for our 9 year old son.</td>\n",
       "      <td>NaN</td>\n",
       "      <td>NaN</td>\n",
       "      <td>DaveZ</td>\n",
       "    </tr>\n",
       "    <tr>\n",
       "      <th>3</th>\n",
       "      <td>AVqkIhwDv8e3D1O-lebb</td>\n",
       "      <td>All-New Fire HD 8 Tablet, 8 HD Display, Wi-Fi,...</td>\n",
       "      <td>B01AHB9CN2</td>\n",
       "      <td>Amazon</td>\n",
       "      <td>Electronics,iPad &amp; Tablets,All Tablets,Fire Ta...</td>\n",
       "      <td>841667104676,amazon/53004484,amazon/b01ahb9cn2...</td>\n",
       "      <td>Amazon</td>\n",
       "      <td>2017-01-13T00:00:00.000Z</td>\n",
       "      <td>2017-07-03T23:33:15Z</td>\n",
       "      <td>2017-06-07T09:04:00.000Z,2017-04-30T00:45:00.000Z</td>\n",
       "      <td>...</td>\n",
       "      <td>True</td>\n",
       "      <td>NaN</td>\n",
       "      <td>0.0</td>\n",
       "      <td>4.0</td>\n",
       "      <td>http://reviews.bestbuy.com/3545/5620406/review...</td>\n",
       "      <td>I've had my Fire HD 8 two weeks now and I love...</td>\n",
       "      <td>Good!!!</td>\n",
       "      <td>NaN</td>\n",
       "      <td>NaN</td>\n",
       "      <td>Shacks</td>\n",
       "    </tr>\n",
       "    <tr>\n",
       "      <th>4</th>\n",
       "      <td>AVqkIhwDv8e3D1O-lebb</td>\n",
       "      <td>All-New Fire HD 8 Tablet, 8 HD Display, Wi-Fi,...</td>\n",
       "      <td>B01AHB9CN2</td>\n",
       "      <td>Amazon</td>\n",
       "      <td>Electronics,iPad &amp; Tablets,All Tablets,Fire Ta...</td>\n",
       "      <td>841667104676,amazon/53004484,amazon/b01ahb9cn2...</td>\n",
       "      <td>Amazon</td>\n",
       "      <td>2017-01-12T00:00:00.000Z</td>\n",
       "      <td>2017-07-03T23:33:15Z</td>\n",
       "      <td>2017-06-07T09:04:00.000Z,2017-04-30T00:45:00.000Z</td>\n",
       "      <td>...</td>\n",
       "      <td>True</td>\n",
       "      <td>NaN</td>\n",
       "      <td>0.0</td>\n",
       "      <td>5.0</td>\n",
       "      <td>http://reviews.bestbuy.com/3545/5620406/review...</td>\n",
       "      <td>I bought this for my grand daughter when she c...</td>\n",
       "      <td>Fantastic Tablet for kids</td>\n",
       "      <td>NaN</td>\n",
       "      <td>NaN</td>\n",
       "      <td>explore42</td>\n",
       "    </tr>\n",
       "  </tbody>\n",
       "</table>\n",
       "<p>5 rows × 21 columns</p>\n",
       "</div>"
      ],
      "text/plain": [
       "                     id                                               name  \\\n",
       "0  AVqkIhwDv8e3D1O-lebb  All-New Fire HD 8 Tablet, 8 HD Display, Wi-Fi,...   \n",
       "1  AVqkIhwDv8e3D1O-lebb  All-New Fire HD 8 Tablet, 8 HD Display, Wi-Fi,...   \n",
       "2  AVqkIhwDv8e3D1O-lebb  All-New Fire HD 8 Tablet, 8 HD Display, Wi-Fi,...   \n",
       "3  AVqkIhwDv8e3D1O-lebb  All-New Fire HD 8 Tablet, 8 HD Display, Wi-Fi,...   \n",
       "4  AVqkIhwDv8e3D1O-lebb  All-New Fire HD 8 Tablet, 8 HD Display, Wi-Fi,...   \n",
       "\n",
       "        asins   brand                                         categories  \\\n",
       "0  B01AHB9CN2  Amazon  Electronics,iPad & Tablets,All Tablets,Fire Ta...   \n",
       "1  B01AHB9CN2  Amazon  Electronics,iPad & Tablets,All Tablets,Fire Ta...   \n",
       "2  B01AHB9CN2  Amazon  Electronics,iPad & Tablets,All Tablets,Fire Ta...   \n",
       "3  B01AHB9CN2  Amazon  Electronics,iPad & Tablets,All Tablets,Fire Ta...   \n",
       "4  B01AHB9CN2  Amazon  Electronics,iPad & Tablets,All Tablets,Fire Ta...   \n",
       "\n",
       "                                                keys manufacturer  \\\n",
       "0  841667104676,amazon/53004484,amazon/b01ahb9cn2...       Amazon   \n",
       "1  841667104676,amazon/53004484,amazon/b01ahb9cn2...       Amazon   \n",
       "2  841667104676,amazon/53004484,amazon/b01ahb9cn2...       Amazon   \n",
       "3  841667104676,amazon/53004484,amazon/b01ahb9cn2...       Amazon   \n",
       "4  841667104676,amazon/53004484,amazon/b01ahb9cn2...       Amazon   \n",
       "\n",
       "               reviews.date     reviews.dateAdded  \\\n",
       "0  2017-01-13T00:00:00.000Z  2017-07-03T23:33:15Z   \n",
       "1  2017-01-13T00:00:00.000Z  2017-07-03T23:33:15Z   \n",
       "2  2017-01-13T00:00:00.000Z  2017-07-03T23:33:15Z   \n",
       "3  2017-01-13T00:00:00.000Z  2017-07-03T23:33:15Z   \n",
       "4  2017-01-12T00:00:00.000Z  2017-07-03T23:33:15Z   \n",
       "\n",
       "                                    reviews.dateSeen  ... reviews.doRecommend  \\\n",
       "0  2017-06-07T09:04:00.000Z,2017-04-30T00:45:00.000Z  ...                True   \n",
       "1  2017-06-07T09:04:00.000Z,2017-04-30T00:45:00.000Z  ...                True   \n",
       "2  2017-06-07T09:04:00.000Z,2017-04-30T00:45:00.000Z  ...                True   \n",
       "3  2017-06-07T09:04:00.000Z,2017-04-30T00:45:00.000Z  ...                True   \n",
       "4  2017-06-07T09:04:00.000Z,2017-04-30T00:45:00.000Z  ...                True   \n",
       "\n",
       "  reviews.id  reviews.numHelpful  reviews.rating  \\\n",
       "0        NaN                 0.0             5.0   \n",
       "1        NaN                 0.0             5.0   \n",
       "2        NaN                 0.0             5.0   \n",
       "3        NaN                 0.0             4.0   \n",
       "4        NaN                 0.0             5.0   \n",
       "\n",
       "                                  reviews.sourceURLs  \\\n",
       "0  http://reviews.bestbuy.com/3545/5620406/review...   \n",
       "1  http://reviews.bestbuy.com/3545/5620406/review...   \n",
       "2  http://reviews.bestbuy.com/3545/5620406/review...   \n",
       "3  http://reviews.bestbuy.com/3545/5620406/review...   \n",
       "4  http://reviews.bestbuy.com/3545/5620406/review...   \n",
       "\n",
       "                                        reviews.text  \\\n",
       "0  This product so far has not disappointed. My c...   \n",
       "1  great for beginner or experienced person. Boug...   \n",
       "2  Inexpensive tablet for him to use and learn on...   \n",
       "3  I've had my Fire HD 8 two weeks now and I love...   \n",
       "4  I bought this for my grand daughter when she c...   \n",
       "\n",
       "                             reviews.title reviews.userCity  \\\n",
       "0                                   Kindle              NaN   \n",
       "1                                very fast              NaN   \n",
       "2  Beginner tablet for our 9 year old son.              NaN   \n",
       "3                                  Good!!!              NaN   \n",
       "4                Fantastic Tablet for kids              NaN   \n",
       "\n",
       "   reviews.userProvince  reviews.username  \n",
       "0                   NaN           Adapter  \n",
       "1                   NaN            truman  \n",
       "2                   NaN             DaveZ  \n",
       "3                   NaN            Shacks  \n",
       "4                   NaN         explore42  \n",
       "\n",
       "[5 rows x 21 columns]"
      ]
     },
     "execution_count": 167,
     "metadata": {},
     "output_type": "execute_result"
    }
   ],
   "source": [
    "reviews = pd.read_csv(\"amazon_reviews.csv\")\n",
    "reviews.head()"
   ]
  },
  {
   "cell_type": "code",
   "execution_count": 168,
   "id": "26246afc-3c9f-4149-9d0b-60b0cc30c8dd",
   "metadata": {},
   "outputs": [],
   "source": [
    "reviews = reviews.dropna(subset = ['reviews.text', 'reviews.rating'])"
   ]
  },
  {
   "cell_type": "code",
   "execution_count": 169,
   "id": "f07ce960-d86d-442e-bf48-6154543729f3",
   "metadata": {},
   "outputs": [
    {
     "data": {
      "text/html": [
       "<div>\n",
       "<style scoped>\n",
       "    .dataframe tbody tr th:only-of-type {\n",
       "        vertical-align: middle;\n",
       "    }\n",
       "\n",
       "    .dataframe tbody tr th {\n",
       "        vertical-align: top;\n",
       "    }\n",
       "\n",
       "    .dataframe thead th {\n",
       "        text-align: right;\n",
       "    }\n",
       "</style>\n",
       "<table border=\"1\" class=\"dataframe\">\n",
       "  <thead>\n",
       "    <tr style=\"text-align: right;\">\n",
       "      <th></th>\n",
       "      <th>name</th>\n",
       "      <th>rating</th>\n",
       "      <th>text</th>\n",
       "    </tr>\n",
       "  </thead>\n",
       "  <tbody>\n",
       "    <tr>\n",
       "      <th>0</th>\n",
       "      <td>All-New Fire HD 8 Tablet, 8 HD Display, Wi-Fi,...</td>\n",
       "      <td>5.0</td>\n",
       "      <td>This product so far has not disappointed. My c...</td>\n",
       "    </tr>\n",
       "    <tr>\n",
       "      <th>1</th>\n",
       "      <td>All-New Fire HD 8 Tablet, 8 HD Display, Wi-Fi,...</td>\n",
       "      <td>5.0</td>\n",
       "      <td>great for beginner or experienced person. Boug...</td>\n",
       "    </tr>\n",
       "    <tr>\n",
       "      <th>2</th>\n",
       "      <td>All-New Fire HD 8 Tablet, 8 HD Display, Wi-Fi,...</td>\n",
       "      <td>5.0</td>\n",
       "      <td>Inexpensive tablet for him to use and learn on...</td>\n",
       "    </tr>\n",
       "    <tr>\n",
       "      <th>3</th>\n",
       "      <td>All-New Fire HD 8 Tablet, 8 HD Display, Wi-Fi,...</td>\n",
       "      <td>4.0</td>\n",
       "      <td>I've had my Fire HD 8 two weeks now and I love...</td>\n",
       "    </tr>\n",
       "    <tr>\n",
       "      <th>4</th>\n",
       "      <td>All-New Fire HD 8 Tablet, 8 HD Display, Wi-Fi,...</td>\n",
       "      <td>5.0</td>\n",
       "      <td>I bought this for my grand daughter when she c...</td>\n",
       "    </tr>\n",
       "  </tbody>\n",
       "</table>\n",
       "</div>"
      ],
      "text/plain": [
       "                                                name  rating  \\\n",
       "0  All-New Fire HD 8 Tablet, 8 HD Display, Wi-Fi,...     5.0   \n",
       "1  All-New Fire HD 8 Tablet, 8 HD Display, Wi-Fi,...     5.0   \n",
       "2  All-New Fire HD 8 Tablet, 8 HD Display, Wi-Fi,...     5.0   \n",
       "3  All-New Fire HD 8 Tablet, 8 HD Display, Wi-Fi,...     4.0   \n",
       "4  All-New Fire HD 8 Tablet, 8 HD Display, Wi-Fi,...     5.0   \n",
       "\n",
       "                                                text  \n",
       "0  This product so far has not disappointed. My c...  \n",
       "1  great for beginner or experienced person. Boug...  \n",
       "2  Inexpensive tablet for him to use and learn on...  \n",
       "3  I've had my Fire HD 8 two weeks now and I love...  \n",
       "4  I bought this for my grand daughter when she c...  "
      ]
     },
     "execution_count": 169,
     "metadata": {},
     "output_type": "execute_result"
    }
   ],
   "source": [
    "clean_reviews = reviews[['name', 'reviews.rating', 'reviews.text']].rename(columns = {'reviews.rating' : 'rating', 'reviews.text': 'text'})\n",
    "clean_reviews.head()"
   ]
  },
  {
   "cell_type": "code",
   "execution_count": 170,
   "id": "9ace833a-97c0-44b9-88eb-fa33d760497f",
   "metadata": {},
   "outputs": [
    {
     "data": {
      "text/plain": [
       "34626"
      ]
     },
     "execution_count": 170,
     "metadata": {},
     "output_type": "execute_result"
    }
   ],
   "source": [
    "len(clean_reviews)"
   ]
  },
  {
   "cell_type": "code",
   "execution_count": 171,
   "id": "9eba62cc-8a1b-453b-9c4b-9f8a6e46405e",
   "metadata": {},
   "outputs": [
    {
     "data": {
      "text/html": [
       "<div>\n",
       "<style scoped>\n",
       "    .dataframe tbody tr th:only-of-type {\n",
       "        vertical-align: middle;\n",
       "    }\n",
       "\n",
       "    .dataframe tbody tr th {\n",
       "        vertical-align: top;\n",
       "    }\n",
       "\n",
       "    .dataframe thead th {\n",
       "        text-align: right;\n",
       "    }\n",
       "</style>\n",
       "<table border=\"1\" class=\"dataframe\">\n",
       "  <thead>\n",
       "    <tr style=\"text-align: right;\">\n",
       "      <th></th>\n",
       "      <th>name</th>\n",
       "      <th>rating</th>\n",
       "      <th>text</th>\n",
       "      <th>sentiments</th>\n",
       "    </tr>\n",
       "  </thead>\n",
       "  <tbody>\n",
       "    <tr>\n",
       "      <th>0</th>\n",
       "      <td>All-New Fire HD 8 Tablet, 8 HD Display, Wi-Fi,...</td>\n",
       "      <td>5.0</td>\n",
       "      <td>This product so far has not disappointed. My c...</td>\n",
       "      <td>1</td>\n",
       "    </tr>\n",
       "    <tr>\n",
       "      <th>1</th>\n",
       "      <td>All-New Fire HD 8 Tablet, 8 HD Display, Wi-Fi,...</td>\n",
       "      <td>5.0</td>\n",
       "      <td>great for beginner or experienced person. Boug...</td>\n",
       "      <td>1</td>\n",
       "    </tr>\n",
       "    <tr>\n",
       "      <th>2</th>\n",
       "      <td>All-New Fire HD 8 Tablet, 8 HD Display, Wi-Fi,...</td>\n",
       "      <td>5.0</td>\n",
       "      <td>Inexpensive tablet for him to use and learn on...</td>\n",
       "      <td>1</td>\n",
       "    </tr>\n",
       "    <tr>\n",
       "      <th>3</th>\n",
       "      <td>All-New Fire HD 8 Tablet, 8 HD Display, Wi-Fi,...</td>\n",
       "      <td>4.0</td>\n",
       "      <td>I've had my Fire HD 8 two weeks now and I love...</td>\n",
       "      <td>1</td>\n",
       "    </tr>\n",
       "    <tr>\n",
       "      <th>4</th>\n",
       "      <td>All-New Fire HD 8 Tablet, 8 HD Display, Wi-Fi,...</td>\n",
       "      <td>5.0</td>\n",
       "      <td>I bought this for my grand daughter when she c...</td>\n",
       "      <td>1</td>\n",
       "    </tr>\n",
       "  </tbody>\n",
       "</table>\n",
       "</div>"
      ],
      "text/plain": [
       "                                                name  rating  \\\n",
       "0  All-New Fire HD 8 Tablet, 8 HD Display, Wi-Fi,...     5.0   \n",
       "1  All-New Fire HD 8 Tablet, 8 HD Display, Wi-Fi,...     5.0   \n",
       "2  All-New Fire HD 8 Tablet, 8 HD Display, Wi-Fi,...     5.0   \n",
       "3  All-New Fire HD 8 Tablet, 8 HD Display, Wi-Fi,...     4.0   \n",
       "4  All-New Fire HD 8 Tablet, 8 HD Display, Wi-Fi,...     5.0   \n",
       "\n",
       "                                                text  sentiments  \n",
       "0  This product so far has not disappointed. My c...           1  \n",
       "1  great for beginner or experienced person. Boug...           1  \n",
       "2  Inexpensive tablet for him to use and learn on...           1  \n",
       "3  I've had my Fire HD 8 two weeks now and I love...           1  \n",
       "4  I bought this for my grand daughter when she c...           1  "
      ]
     },
     "execution_count": 171,
     "metadata": {},
     "output_type": "execute_result"
    }
   ],
   "source": [
    "# Add sentiment column (1 = positive | 0 = negative)\n",
    "clean_reviews['sentiments'] = clean_reviews.rating.apply(lambda x: 0 if x in [1, 2] else 1)\n",
    "clean_reviews.head()"
   ]
  },
  {
   "cell_type": "code",
   "execution_count": 172,
   "id": "2dd64337-f6c7-4bed-89df-434a3e079488",
   "metadata": {},
   "outputs": [
    {
     "data": {
      "text/html": [
       "<div>\n",
       "<style scoped>\n",
       "    .dataframe tbody tr th:only-of-type {\n",
       "        vertical-align: middle;\n",
       "    }\n",
       "\n",
       "    .dataframe tbody tr th {\n",
       "        vertical-align: top;\n",
       "    }\n",
       "\n",
       "    .dataframe thead th {\n",
       "        text-align: right;\n",
       "    }\n",
       "</style>\n",
       "<table border=\"1\" class=\"dataframe\">\n",
       "  <thead>\n",
       "    <tr style=\"text-align: right;\">\n",
       "      <th></th>\n",
       "      <th>name</th>\n",
       "      <th>rating</th>\n",
       "      <th>text</th>\n",
       "      <th>sentiments</th>\n",
       "    </tr>\n",
       "  </thead>\n",
       "  <tbody>\n",
       "    <tr>\n",
       "      <th>0</th>\n",
       "      <td>All-New Fire HD 8 Tablet, 8 HD Display, Wi-Fi,...</td>\n",
       "      <td>5.0</td>\n",
       "      <td>this product so far has not disappointed. my c...</td>\n",
       "      <td>1</td>\n",
       "    </tr>\n",
       "    <tr>\n",
       "      <th>1</th>\n",
       "      <td>All-New Fire HD 8 Tablet, 8 HD Display, Wi-Fi,...</td>\n",
       "      <td>5.0</td>\n",
       "      <td>great for beginner or experienced person. boug...</td>\n",
       "      <td>1</td>\n",
       "    </tr>\n",
       "    <tr>\n",
       "      <th>2</th>\n",
       "      <td>All-New Fire HD 8 Tablet, 8 HD Display, Wi-Fi,...</td>\n",
       "      <td>5.0</td>\n",
       "      <td>inexpensive tablet for him to use and learn on...</td>\n",
       "      <td>1</td>\n",
       "    </tr>\n",
       "    <tr>\n",
       "      <th>3</th>\n",
       "      <td>All-New Fire HD 8 Tablet, 8 HD Display, Wi-Fi,...</td>\n",
       "      <td>4.0</td>\n",
       "      <td>i've had my fire hd 8 two weeks now and i love...</td>\n",
       "      <td>1</td>\n",
       "    </tr>\n",
       "    <tr>\n",
       "      <th>4</th>\n",
       "      <td>All-New Fire HD 8 Tablet, 8 HD Display, Wi-Fi,...</td>\n",
       "      <td>5.0</td>\n",
       "      <td>i bought this for my grand daughter when she c...</td>\n",
       "      <td>1</td>\n",
       "    </tr>\n",
       "  </tbody>\n",
       "</table>\n",
       "</div>"
      ],
      "text/plain": [
       "                                                name  rating  \\\n",
       "0  All-New Fire HD 8 Tablet, 8 HD Display, Wi-Fi,...     5.0   \n",
       "1  All-New Fire HD 8 Tablet, 8 HD Display, Wi-Fi,...     5.0   \n",
       "2  All-New Fire HD 8 Tablet, 8 HD Display, Wi-Fi,...     5.0   \n",
       "3  All-New Fire HD 8 Tablet, 8 HD Display, Wi-Fi,...     4.0   \n",
       "4  All-New Fire HD 8 Tablet, 8 HD Display, Wi-Fi,...     5.0   \n",
       "\n",
       "                                                text  sentiments  \n",
       "0  this product so far has not disappointed. my c...           1  \n",
       "1  great for beginner or experienced person. boug...           1  \n",
       "2  inexpensive tablet for him to use and learn on...           1  \n",
       "3  i've had my fire hd 8 two weeks now and i love...           1  \n",
       "4  i bought this for my grand daughter when she c...           1  "
      ]
     },
     "execution_count": 172,
     "metadata": {},
     "output_type": "execute_result"
    }
   ],
   "source": [
    "# Clean text by making all the text lowercase\n",
    "clean_reviews['text'] = clean_reviews['text'].str.lower()\n",
    "clean_reviews.head()"
   ]
  },
  {
   "cell_type": "code",
   "execution_count": 173,
   "id": "de6d1923-b50b-4567-a2a6-6435d0befa57",
   "metadata": {},
   "outputs": [
    {
     "data": {
      "text/html": [
       "<div>\n",
       "<style scoped>\n",
       "    .dataframe tbody tr th:only-of-type {\n",
       "        vertical-align: middle;\n",
       "    }\n",
       "\n",
       "    .dataframe tbody tr th {\n",
       "        vertical-align: top;\n",
       "    }\n",
       "\n",
       "    .dataframe thead th {\n",
       "        text-align: right;\n",
       "    }\n",
       "</style>\n",
       "<table border=\"1\" class=\"dataframe\">\n",
       "  <thead>\n",
       "    <tr style=\"text-align: right;\">\n",
       "      <th></th>\n",
       "      <th>name</th>\n",
       "      <th>rating</th>\n",
       "      <th>text</th>\n",
       "      <th>sentiments</th>\n",
       "    </tr>\n",
       "  </thead>\n",
       "  <tbody>\n",
       "    <tr>\n",
       "      <th>0</th>\n",
       "      <td>All-New Fire HD 8 Tablet, 8 HD Display, Wi-Fi,...</td>\n",
       "      <td>5.0</td>\n",
       "      <td>product far disappointed. children love use li...</td>\n",
       "      <td>1</td>\n",
       "    </tr>\n",
       "    <tr>\n",
       "      <th>1</th>\n",
       "      <td>All-New Fire HD 8 Tablet, 8 HD Display, Wi-Fi,...</td>\n",
       "      <td>5.0</td>\n",
       "      <td>great beginner experienced person. bought gift...</td>\n",
       "      <td>1</td>\n",
       "    </tr>\n",
       "    <tr>\n",
       "      <th>2</th>\n",
       "      <td>All-New Fire HD 8 Tablet, 8 HD Display, Wi-Fi,...</td>\n",
       "      <td>5.0</td>\n",
       "      <td>inexpensive tablet use learn on, step nabi. th...</td>\n",
       "      <td>1</td>\n",
       "    </tr>\n",
       "    <tr>\n",
       "      <th>3</th>\n",
       "      <td>All-New Fire HD 8 Tablet, 8 HD Display, Wi-Fi,...</td>\n",
       "      <td>4.0</td>\n",
       "      <td>i've fire hd 8 two weeks love it. tablet great...</td>\n",
       "      <td>1</td>\n",
       "    </tr>\n",
       "    <tr>\n",
       "      <th>4</th>\n",
       "      <td>All-New Fire HD 8 Tablet, 8 HD Display, Wi-Fi,...</td>\n",
       "      <td>5.0</td>\n",
       "      <td>bought grand daughter comes visit. set user, e...</td>\n",
       "      <td>1</td>\n",
       "    </tr>\n",
       "  </tbody>\n",
       "</table>\n",
       "</div>"
      ],
      "text/plain": [
       "                                                name  rating  \\\n",
       "0  All-New Fire HD 8 Tablet, 8 HD Display, Wi-Fi,...     5.0   \n",
       "1  All-New Fire HD 8 Tablet, 8 HD Display, Wi-Fi,...     5.0   \n",
       "2  All-New Fire HD 8 Tablet, 8 HD Display, Wi-Fi,...     5.0   \n",
       "3  All-New Fire HD 8 Tablet, 8 HD Display, Wi-Fi,...     4.0   \n",
       "4  All-New Fire HD 8 Tablet, 8 HD Display, Wi-Fi,...     5.0   \n",
       "\n",
       "                                                text  sentiments  \n",
       "0  product far disappointed. children love use li...           1  \n",
       "1  great beginner experienced person. bought gift...           1  \n",
       "2  inexpensive tablet use learn on, step nabi. th...           1  \n",
       "3  i've fire hd 8 two weeks love it. tablet great...           1  \n",
       "4  bought grand daughter comes visit. set user, e...           1  "
      ]
     },
     "execution_count": 173,
     "metadata": {},
     "output_type": "execute_result"
    }
   ],
   "source": [
    "from nltk.corpus import stopwords\n",
    "stop_words = stopwords.words('english')\n",
    "clean_reviews['text'] = clean_reviews['text'].apply(lambda x: \" \".join(x for x in x.split() if x not in stop_words))\n",
    "clean_reviews.head()"
   ]
  },
  {
   "cell_type": "code",
   "execution_count": 174,
   "id": "dd721e27-2086-4bcd-a97a-3776a37b93a9",
   "metadata": {
    "tags": []
   },
   "outputs": [
    {
     "name": "stderr",
     "output_type": "stream",
     "text": [
      "/var/folders/y_/ssfyhqrn347ccbvjy06dxmcr0000gn/T/ipykernel_4726/144381297.py:1: FutureWarning: The default value of regex will change from True to False in a future version.\n",
      "  clean_reviews['text'] = clean_reviews['text'].str.replace('[^\\w\\s]','')\n"
     ]
    },
    {
     "data": {
      "text/html": [
       "<div>\n",
       "<style scoped>\n",
       "    .dataframe tbody tr th:only-of-type {\n",
       "        vertical-align: middle;\n",
       "    }\n",
       "\n",
       "    .dataframe tbody tr th {\n",
       "        vertical-align: top;\n",
       "    }\n",
       "\n",
       "    .dataframe thead th {\n",
       "        text-align: right;\n",
       "    }\n",
       "</style>\n",
       "<table border=\"1\" class=\"dataframe\">\n",
       "  <thead>\n",
       "    <tr style=\"text-align: right;\">\n",
       "      <th></th>\n",
       "      <th>name</th>\n",
       "      <th>rating</th>\n",
       "      <th>text</th>\n",
       "      <th>sentiments</th>\n",
       "    </tr>\n",
       "  </thead>\n",
       "  <tbody>\n",
       "    <tr>\n",
       "      <th>0</th>\n",
       "      <td>All-New Fire HD 8 Tablet, 8 HD Display, Wi-Fi,...</td>\n",
       "      <td>5.0</td>\n",
       "      <td>product far disappointed children love use lik...</td>\n",
       "      <td>1</td>\n",
       "    </tr>\n",
       "    <tr>\n",
       "      <th>1</th>\n",
       "      <td>All-New Fire HD 8 Tablet, 8 HD Display, Wi-Fi,...</td>\n",
       "      <td>5.0</td>\n",
       "      <td>great beginner experienced person bought gift ...</td>\n",
       "      <td>1</td>\n",
       "    </tr>\n",
       "    <tr>\n",
       "      <th>2</th>\n",
       "      <td>All-New Fire HD 8 Tablet, 8 HD Display, Wi-Fi,...</td>\n",
       "      <td>5.0</td>\n",
       "      <td>inexpensive tablet use learn on step nabi thri...</td>\n",
       "      <td>1</td>\n",
       "    </tr>\n",
       "    <tr>\n",
       "      <th>3</th>\n",
       "      <td>All-New Fire HD 8 Tablet, 8 HD Display, Wi-Fi,...</td>\n",
       "      <td>4.0</td>\n",
       "      <td>ive fire hd 8 two weeks love it tablet great v...</td>\n",
       "      <td>1</td>\n",
       "    </tr>\n",
       "    <tr>\n",
       "      <th>4</th>\n",
       "      <td>All-New Fire HD 8 Tablet, 8 HD Display, Wi-Fi,...</td>\n",
       "      <td>5.0</td>\n",
       "      <td>bought grand daughter comes visit set user ent...</td>\n",
       "      <td>1</td>\n",
       "    </tr>\n",
       "  </tbody>\n",
       "</table>\n",
       "</div>"
      ],
      "text/plain": [
       "                                                name  rating  \\\n",
       "0  All-New Fire HD 8 Tablet, 8 HD Display, Wi-Fi,...     5.0   \n",
       "1  All-New Fire HD 8 Tablet, 8 HD Display, Wi-Fi,...     5.0   \n",
       "2  All-New Fire HD 8 Tablet, 8 HD Display, Wi-Fi,...     5.0   \n",
       "3  All-New Fire HD 8 Tablet, 8 HD Display, Wi-Fi,...     4.0   \n",
       "4  All-New Fire HD 8 Tablet, 8 HD Display, Wi-Fi,...     5.0   \n",
       "\n",
       "                                                text  sentiments  \n",
       "0  product far disappointed children love use lik...           1  \n",
       "1  great beginner experienced person bought gift ...           1  \n",
       "2  inexpensive tablet use learn on step nabi thri...           1  \n",
       "3  ive fire hd 8 two weeks love it tablet great v...           1  \n",
       "4  bought grand daughter comes visit set user ent...           1  "
      ]
     },
     "execution_count": 174,
     "metadata": {},
     "output_type": "execute_result"
    }
   ],
   "source": [
    "clean_reviews['text'] = clean_reviews['text'].str.replace('[^\\w\\s]','')\n",
    "clean_reviews.head()"
   ]
  },
  {
   "cell_type": "code",
   "execution_count": 175,
   "id": "2433393c-dc3e-4f5c-b993-93d8e8657278",
   "metadata": {},
   "outputs": [],
   "source": [
    "clean_reviews['text'] = clean_reviews['text'].astype(str)"
   ]
  },
  {
   "cell_type": "code",
   "execution_count": 176,
   "id": "0d002c69-2e5b-4fbb-8a10-fb6b90263927",
   "metadata": {},
   "outputs": [],
   "source": [
    "X = clean_reviews['text']\n",
    "y = clean_reviews['sentiments']"
   ]
  },
  {
   "cell_type": "code",
   "execution_count": 177,
   "id": "ca0cb457-7766-47d4-a81f-285c84ffa623",
   "metadata": {},
   "outputs": [
    {
     "data": {
      "text/plain": [
       "<AxesSubplot:xlabel='rating', ylabel='count'>"
      ]
     },
     "execution_count": 177,
     "metadata": {},
     "output_type": "execute_result"
    },
    {
     "data": {
      "image/png": "[encoded data removed]",
      "text/plain": [
       "<Figure size 432x288 with 1 Axes>"
      ]
     },
     "metadata": {
      "needs_background": "light"
     },
     "output_type": "display_data"
    }
   ],
   "source": [
    "sns.countplot(x=clean_reviews['rating'])"
   ]
  },
  {
   "cell_type": "code",
   "execution_count": 178,
   "id": "8ba89137-d2c9-4412-ac28-8d0a827e93f4",
   "metadata": {},
   "outputs": [
    {
     "data": {
      "text/plain": [
       "5.0    23774\n",
       "4.0     8541\n",
       "3.0     1499\n",
       "1.0      410\n",
       "2.0      402\n",
       "Name: rating, dtype: int64"
      ]
     },
     "execution_count": 178,
     "metadata": {},
     "output_type": "execute_result"
    }
   ],
   "source": [
    "clean_reviews['rating'].value_counts()"
   ]
  },
  {
   "cell_type": "code",
   "execution_count": 179,
   "id": "b1da7546-b2d3-43e0-8b85-7054ff7d7f63",
   "metadata": {},
   "outputs": [
    {
     "data": {
      "text/plain": [
       "1    33814\n",
       "0      812\n",
       "Name: sentiments, dtype: int64"
      ]
     },
     "execution_count": 179,
     "metadata": {},
     "output_type": "execute_result"
    }
   ],
   "source": [
    "clean_reviews['sentiments'].value_counts()"
   ]
  },
  {
   "cell_type": "markdown",
   "id": "e21c0a49-1d5e-4873-b44e-583de5f46029",
   "metadata": {},
   "source": [
    "## Logistic Regression w/ TF-IDF Vectorization"
   ]
  },
  {
   "cell_type": "code",
   "execution_count": 180,
   "id": "37a64d43-c5b3-4726-930b-c52f7b086fdb",
   "metadata": {},
   "outputs": [],
   "source": [
    "X_train, X_test, y_train, y_test = train_test_split(X, y, \n",
    "                                        test_size = 0.4, random_state=2023)"
   ]
  },
  {
   "cell_type": "code",
   "execution_count": 181,
   "id": "ba33e130-c2b5-4925-9264-ac2eac54d221",
   "metadata": {},
   "outputs": [],
   "source": [
    "vectorizer = TfidfVectorizer()\n",
    "X_train_vect = vectorizer.fit_transform(X_train)\n",
    "X_test_vect = vectorizer.transform(X_test)"
   ]
  },
  {
   "cell_type": "code",
   "execution_count": 182,
   "id": "b8fe5937-1a7f-428f-9606-d081c10bc804",
   "metadata": {},
   "outputs": [],
   "source": [
    "lr_model = LogisticRegression().fit(X_train_vect, y_train)"
   ]
  },
  {
   "cell_type": "code",
   "execution_count": 183,
   "id": "88f2539c-3259-43f1-9d96-039be64cec82",
   "metadata": {},
   "outputs": [
    {
     "name": "stdout",
     "output_type": "stream",
     "text": [
      "0.9768969749476573\n"
     ]
    }
   ],
   "source": [
    "lr_score = lr_model.score(X_test_vect, y_test)\n",
    "print(lr_score)"
   ]
  },
  {
   "cell_type": "code",
   "execution_count": 184,
   "id": "97ddfe9e-163e-4122-9a61-f9eef545564a",
   "metadata": {},
   "outputs": [],
   "source": [
    "lr_pred = lr_model.predict(X_test_vect)"
   ]
  },
  {
   "cell_type": "code",
   "execution_count": 185,
   "id": "eee5020b-eabf-455a-bcef-e09f92184100",
   "metadata": {},
   "outputs": [
    {
     "name": "stdout",
     "output_type": "stream",
     "text": [
      "5 318 2 13526\n"
     ]
    }
   ],
   "source": [
    "tn, fp, fn, tp = confusion_matrix(y_test, lr_pred).ravel()\n",
    "print(tn, fp, fn, tp)"
   ]
  },
  {
   "cell_type": "code",
   "execution_count": 186,
   "id": "6bf28623-b3a2-44ad-8662-d8eb5b561ab2",
   "metadata": {},
   "outputs": [
    {
     "name": "stdout",
     "output_type": "stream",
     "text": [
      "0.977\n",
      "1.0\n"
     ]
    }
   ],
   "source": [
    "precision = round(tp/(tp + fp), 3)\n",
    "recall = round(tp/(tp+fn), 3)\n",
    "print(precision)\n",
    "print(recall)"
   ]
  },
  {
   "cell_type": "markdown",
   "id": "a2b431e1-6179-466a-b542-cb6671c8caf3",
   "metadata": {},
   "source": [
    "## K-Nearest Neighbors"
   ]
  },
  {
   "cell_type": "code",
   "execution_count": 187,
   "id": "e3246e42-f2ef-4842-9752-b03aefc05343",
   "metadata": {},
   "outputs": [],
   "source": [
    "knn = KNeighborsClassifier()"
   ]
  },
  {
   "cell_type": "code",
   "execution_count": 188,
   "id": "8cfe97ea-7c94-4351-a135-aa97b8998870",
   "metadata": {},
   "outputs": [],
   "source": [
    "knn_tune_grid = {'n_neighbors': [3, 5, 7, 10, 12]}"
   ]
  },
  {
   "cell_type": "code",
   "execution_count": 189,
   "id": "8a5cc520-7f90-415d-9acd-7c59f164da35",
   "metadata": {},
   "outputs": [],
   "source": [
    "knn_search = GridSearchCV(knn, knn_tune_grid, cv=3)\n",
    "knn_search_results = knn_search.fit(X_train_vect, y_train)"
   ]
  },
  {
   "cell_type": "code",
   "execution_count": 190,
   "id": "79bdc017-cea7-49ac-801d-f8d2e3af5dac",
   "metadata": {},
   "outputs": [
    {
     "name": "stdout",
     "output_type": "stream",
     "text": [
      "0.9764620938628159\n",
      "{'n_neighbors': 10}\n"
     ]
    }
   ],
   "source": [
    "print(knn_search_results.best_score_)\n",
    "print(knn_search_results.best_params_)"
   ]
  },
  {
   "cell_type": "code",
   "execution_count": 191,
   "id": "d0cde301-c2d1-43e9-832e-f5b597e2412a",
   "metadata": {},
   "outputs": [
    {
     "data": {
      "text/plain": [
       "KNeighborsClassifier(n_neighbors=12)"
      ]
     },
     "execution_count": 191,
     "metadata": {},
     "output_type": "execute_result"
    }
   ],
   "source": [
    "knn_12 = KNeighborsClassifier(n_neighbors=12)\n",
    "knn_12.fit(X_train_vect, y_train)"
   ]
  },
  {
   "cell_type": "code",
   "execution_count": 192,
   "id": "0e8f8be2-1ea0-48f3-bb7d-c78f18ebfe92",
   "metadata": {},
   "outputs": [
    {
     "name": "stdout",
     "output_type": "stream",
     "text": [
      "0.9768969749476573\n"
     ]
    }
   ],
   "source": [
    "knn_score = knn_12.score(X_test_vect, y_test)\n",
    "print(knn_score)"
   ]
  },
  {
   "cell_type": "code",
   "execution_count": 193,
   "id": "366e6013-969e-4347-91f7-a99cbd5e48a5",
   "metadata": {},
   "outputs": [],
   "source": [
    "knn_pred = knn_12.predict(X_test_vect)"
   ]
  },
  {
   "cell_type": "code",
   "execution_count": 194,
   "id": "d435a9ea-22a7-4efe-844e-2da87026d223",
   "metadata": {},
   "outputs": [
    {
     "name": "stdout",
     "output_type": "stream",
     "text": [
      "3 320 0 13528\n"
     ]
    }
   ],
   "source": [
    "tn, fp, fn, tp = confusion_matrix(y_test, knn_pred).ravel()\n",
    "print(tn, fp, fn, tp)"
   ]
  },
  {
   "cell_type": "code",
   "execution_count": 195,
   "id": "6ef4bdd5-e7e8-4e58-a5ae-cb2008a5bb41",
   "metadata": {},
   "outputs": [
    {
     "name": "stdout",
     "output_type": "stream",
     "text": [
      "0.977\n",
      "1.0\n"
     ]
    }
   ],
   "source": [
    "precision_knn = round(tp/(tp + fp), 3)\n",
    "recall_knn = round(tp/(tp+fn), 3)\n",
    "print(precision_knn)\n",
    "print(recall_knn)"
   ]
  },
  {
   "cell_type": "code",
   "execution_count": 196,
   "id": "f4dd6b0d-fccb-4991-8b46-ee15b6b334ac",
   "metadata": {},
   "outputs": [],
   "source": [
    "full_vect = vectorizer.transform(clean_reviews['text'])"
   ]
  },
  {
   "cell_type": "code",
   "execution_count": 197,
   "id": "ff27a003-96f9-4a01-94ca-b6f0775df1c6",
   "metadata": {},
   "outputs": [],
   "source": [
    "knn_full_pred = knn_12.predict(full_vect)"
   ]
  },
  {
   "cell_type": "markdown",
   "id": "2f6c0322-99fc-439c-8cd3-a8d5c36bcf12",
   "metadata": {},
   "source": [
    "## Default Threshold (0.5)"
   ]
  },
  {
   "cell_type": "markdown",
   "id": "5d1753e5-bf09-458c-95fa-b095a84acb67",
   "metadata": {},
   "source": [
    "Need to find a better way to add decision threshold to the tuning grid so that it is apart of the cross-validation"
   ]
  },
  {
   "cell_type": "code",
   "execution_count": 198,
   "id": "956b7afa-8432-4a04-abb3-9e58611aa4a7",
   "metadata": {},
   "outputs": [],
   "source": [
    "threshold = 0.5\n",
    "prob_test_5 = np.where(knn_12.predict_proba(X_test_vect)[:, 1] > threshold, 1, 0)"
   ]
  },
  {
   "cell_type": "code",
   "execution_count": 199,
   "id": "ea8f1956-1470-4b57-b2bf-c5da7d215c2c",
   "metadata": {},
   "outputs": [
    {
     "name": "stdout",
     "output_type": "stream",
     "text": [
      "3 320 0 13528\n"
     ]
    }
   ],
   "source": [
    "tn, fp, fn, tp = confusion_matrix(y_test, prob_test_5).ravel()\n",
    "print(tn, fp, fn, tp)"
   ]
  },
  {
   "cell_type": "code",
   "execution_count": 200,
   "id": "7d7b4efe-9d4b-44f2-ac95-98f2f1b22480",
   "metadata": {},
   "outputs": [
    {
     "name": "stdout",
     "output_type": "stream",
     "text": [
      "0.977\n",
      "1.0\n",
      "0.009\n"
     ]
    }
   ],
   "source": [
    "precision_test = round(tp/(tp + fp), 3)\n",
    "sensitivity_test = round(tp/(tp+fn), 3)\n",
    "specificity_test = round(tn/(tn+fp), 3)\n",
    "print(precision_test)\n",
    "print(sensitivity_test)\n",
    "print(specificity_test)"
   ]
  },
  {
   "cell_type": "markdown",
   "id": "36a63def-9b2a-49dc-b9d5-55249351ec90",
   "metadata": {},
   "source": [
    "## Increased Threshold"
   ]
  },
  {
   "cell_type": "code",
   "execution_count": 201,
   "id": "4ae18c74-ae2f-42ed-b0d2-d0409ee4771e",
   "metadata": {},
   "outputs": [],
   "source": [
    "threshold = 0.7\n",
    "prob_test_7 = np.where(knn_12.predict_proba(X_test_vect)[:, 1] > threshold, 1, 0)"
   ]
  },
  {
   "cell_type": "code",
   "execution_count": 202,
   "id": "f6fbc716-06a8-4593-823b-407b5526c583",
   "metadata": {},
   "outputs": [
    {
     "name": "stdout",
     "output_type": "stream",
     "text": [
      "23 300 12 13516\n"
     ]
    }
   ],
   "source": [
    "tn, fp, fn, tp = confusion_matrix(y_test, prob_test_7).ravel()\n",
    "print(tn, fp, fn, tp)"
   ]
  },
  {
   "cell_type": "code",
   "execution_count": 203,
   "id": "45948325-7e16-4b7e-8cd2-b68391b7a862",
   "metadata": {},
   "outputs": [
    {
     "name": "stdout",
     "output_type": "stream",
     "text": [
      "0.978\n",
      "0.999\n",
      "0.071\n"
     ]
    }
   ],
   "source": [
    "precision_test = round(tp/(tp + fp), 3)\n",
    "sensitivity_test = round(tp/(tp+fn), 3)\n",
    "specificity_test = round(tn/(tn+fp), 3)\n",
    "print(precision_test)\n",
    "print(sensitivity_test)\n",
    "print(specificity_test)"
   ]
  },
  {
   "cell_type": "code",
   "execution_count": 204,
   "id": "c51ac8bf-a0e4-475e-a737-38035009a90f",
   "metadata": {},
   "outputs": [],
   "source": [
    "threshold = 0.75\n",
    "prob_test_75 = np.where(knn_12.predict_proba(X_test_vect)[:, 1] > threshold, 1, 0)"
   ]
  },
  {
   "cell_type": "code",
   "execution_count": 205,
   "id": "042732d5-5781-4066-afb6-7b65e4d5bce6",
   "metadata": {},
   "outputs": [
    {
     "name": "stdout",
     "output_type": "stream",
     "text": [
      "54 269 109 13419\n"
     ]
    }
   ],
   "source": [
    "tn, fp, fn, tp = confusion_matrix(y_test, prob_test_75).ravel()\n",
    "print(tn, fp, fn, tp)"
   ]
  },
  {
   "cell_type": "code",
   "execution_count": 206,
   "id": "75974be1-448e-4528-a0f6-6b7819f643a1",
   "metadata": {},
   "outputs": [
    {
     "name": "stdout",
     "output_type": "stream",
     "text": [
      "0.98\n",
      "0.992\n",
      "0.167\n"
     ]
    }
   ],
   "source": [
    "precision_test = round(tp/(tp + fp), 3)\n",
    "sensitivity_test = round(tp/(tp+fn), 3)\n",
    "specificity_test = round(tn/(tn+fp), 3)\n",
    "print(precision_test)\n",
    "print(sensitivity_test)\n",
    "print(specificity_test)"
   ]
  },
  {
   "cell_type": "code",
   "execution_count": 218,
   "id": "13ce6786-1a02-456e-917e-3813e9178c9b",
   "metadata": {},
   "outputs": [],
   "source": [
    "threshold = 0.8\n",
    "prob_test_8 = np.where(knn_12.predict_proba(X_test_vect)[:, 1] > threshold, 1, 0)"
   ]
  },
  {
   "cell_type": "code",
   "execution_count": 219,
   "id": "727c1662-571b-45e1-ab71-ddb8d4b2e9a2",
   "metadata": {},
   "outputs": [
    {
     "name": "stdout",
     "output_type": "stream",
     "text": [
      "54 269 109 13419\n"
     ]
    }
   ],
   "source": [
    "tn, fp, fn, tp = confusion_matrix(y_test, prob_test_8).ravel()\n",
    "print(tn, fp, fn, tp)"
   ]
  },
  {
   "cell_type": "code",
   "execution_count": 220,
   "id": "375b3918-3b06-4d38-9be2-720feaacbc31",
   "metadata": {},
   "outputs": [
    {
     "name": "stdout",
     "output_type": "stream",
     "text": [
      "0.98\n",
      "0.992\n",
      "0.167\n"
     ]
    }
   ],
   "source": [
    "precision_test = round(tp/(tp + fp), 3)\n",
    "sensitivity_test = round(tp/(tp+fn), 3)\n",
    "specificity_test = round(tn/(tn+fp), 3)\n",
    "print(precision_test)\n",
    "print(sensitivity_test)\n",
    "print(specificity_test)"
   ]
  },
  {
   "cell_type": "code",
   "execution_count": 215,
   "id": "e7f4a161-017d-47f7-bb98-100c5460e9ee",
   "metadata": {},
   "outputs": [],
   "source": [
    "threshold = 0.85\n",
    "prob_test_85 = np.where(knn_12.predict_proba(X_test_vect)[:, 1] > threshold, 1, 0)"
   ]
  },
  {
   "cell_type": "code",
   "execution_count": 216,
   "id": "d0c7a230-3fc1-4cf8-9ac8-d688418fa037",
   "metadata": {},
   "outputs": [
    {
     "name": "stdout",
     "output_type": "stream",
     "text": [
      "134 189 1075 12453\n"
     ]
    }
   ],
   "source": [
    "tn, fp, fn, tp = confusion_matrix(y_test, prob_test_85).ravel()\n",
    "print(tn, fp, fn, tp)"
   ]
  },
  {
   "cell_type": "code",
   "execution_count": 217,
   "id": "4eb96ec1-0763-4af5-952f-a30e737c64f2",
   "metadata": {},
   "outputs": [
    {
     "name": "stdout",
     "output_type": "stream",
     "text": [
      "0.985\n",
      "0.921\n",
      "0.415\n"
     ]
    }
   ],
   "source": [
    "precision_test = round(tp/(tp + fp), 3)\n",
    "sensitivity_test = round(tp/(tp+fn), 3)\n",
    "specificity_test = round(tn/(tn+fp), 3)\n",
    "print(precision_test)\n",
    "print(sensitivity_test)\n",
    "print(specificity_test)"
   ]
  },
  {
   "cell_type": "code",
   "execution_count": 224,
   "id": "cc41d804-7c66-4080-b905-395b1f754114",
   "metadata": {},
   "outputs": [],
   "source": [
    "threshold = 0.9\n",
    "prob_test_9 = np.where(knn_12.predict_proba(X_test_vect)[:, 1] > threshold, 1, 0)"
   ]
  },
  {
   "cell_type": "code",
   "execution_count": 225,
   "id": "1e497d7b-99bf-4160-843b-ac9bf6232ced",
   "metadata": {},
   "outputs": [
    {
     "name": "stdout",
     "output_type": "stream",
     "text": [
      "134 189 1075 12453\n"
     ]
    }
   ],
   "source": [
    "tn, fp, fn, tp = confusion_matrix(y_test, prob_test_9).ravel()\n",
    "print(tn, fp, fn, tp)"
   ]
  },
  {
   "cell_type": "code",
   "execution_count": 226,
   "id": "c4f6d03f-1cf1-4ebe-93e9-2ab4443bb569",
   "metadata": {},
   "outputs": [
    {
     "name": "stdout",
     "output_type": "stream",
     "text": [
      "0.985\n",
      "0.921\n",
      "0.415\n"
     ]
    }
   ],
   "source": [
    "precision_test = round(tp/(tp + fp), 3)\n",
    "sensitivity_test = round(tp/(tp+fn), 3)\n",
    "specificity_test = round(tn/(tn+fp), 3)\n",
    "print(precision_test)\n",
    "print(sensitivity_test)\n",
    "print(specificity_test)"
   ]
  },
  {
   "cell_type": "markdown",
   "id": "d1b291fb-eca4-440c-b5f3-a7946974f137",
   "metadata": {},
   "source": [
    "In the end it appears that thresholds of 0.85 and 0.9 appear to yield the most ideal metrics but we'll go with 0.85"
   ]
  },
  {
   "cell_type": "markdown",
   "id": "faa00d0a-a936-475e-93b2-742de38185f9",
   "metadata": {},
   "source": [
    "## Test New Threshold on Dataset"
   ]
  },
  {
   "cell_type": "code",
   "execution_count": 247,
   "id": "fb7675a1-cfcd-4326-b485-b186919f7530",
   "metadata": {},
   "outputs": [],
   "source": [
    "best_threshold = 0.85\n",
    "prob_full_85 = np.where(knn_12.predict_proba(full_vect)[:, 1] > best_threshold, 1, 0)"
   ]
  },
  {
   "cell_type": "code",
   "execution_count": 248,
   "id": "a0f0f2ad-b476-4549-985b-32c6cbef5796",
   "metadata": {},
   "outputs": [
    {
     "name": "stdout",
     "output_type": "stream",
     "text": [
      "620 192 2507 31307\n"
     ]
    }
   ],
   "source": [
    "tn, fp, fn, tp = confusion_matrix(clean_reviews['sentiments'], prob_full_85).ravel()\n",
    "print(tn, fp, fn, tp)"
   ]
  },
  {
   "cell_type": "code",
   "execution_count": 249,
   "id": "8ec79313-67a0-4d3d-843a-eabbd053a43e",
   "metadata": {},
   "outputs": [
    {
     "name": "stdout",
     "output_type": "stream",
     "text": [
      "0.994\n",
      "0.926\n",
      "0.764\n"
     ]
    }
   ],
   "source": [
    "precision_full = round(tp/(tp + fp), 3)\n",
    "sensitivity_full = round(tp/(tp+fn), 3)\n",
    "specificity_full = round(tn/(tn+fp), 3)\n",
    "print(precision_full)\n",
    "print(sensitivity_full)\n",
    "print(specificity_full)"
   ]
  },
  {
   "cell_type": "markdown",
   "id": "ff4fa117-6aad-4a55-b385-59244ca1f76e",
   "metadata": {
    "tags": []
   },
   "source": [
    "## Try to Improve Data"
   ]
  },
  {
   "cell_type": "code",
   "execution_count": 250,
   "id": "e0eb0268-d866-4e03-a345-1830549510ca",
   "metadata": {},
   "outputs": [],
   "source": [
    "pred_reviews = clean_reviews.copy()\n",
    "pred_reviews['pred'] = prob_full_85"
   ]
  },
  {
   "cell_type": "code",
   "execution_count": 251,
   "id": "7c95d4fc-63ee-40d4-af1d-96138df4b116",
   "metadata": {},
   "outputs": [
    {
     "data": {
      "text/plain": [
       "1    2507\n",
       "0     192\n",
       "Name: sentiments, dtype: int64"
      ]
     },
     "execution_count": 251,
     "metadata": {},
     "output_type": "execute_result"
    }
   ],
   "source": [
    "incorrect = pred_reviews[pred_reviews['sentiments'] != pred_reviews['pred']]\n",
    "incorrect['sentiments'].value_counts()"
   ]
  },
  {
   "cell_type": "markdown",
   "id": "ba65503e-fa86-4b00-8991-ce94aa45bc93",
   "metadata": {},
   "source": [
    "The model appears to incorrecttly predict positive sentiments more often than negative sentiments, however overall the model only incorrectly predicts 7.41% of all positive sentiments (2507/33814) and 23.6% (192/812) of all negative sentiments. The next goal is try and increase the models ability to correctly predict negative sentiments without a significant reduction in its ability to predict positive sentiments."
   ]
  },
  {
   "cell_type": "code",
   "execution_count": null,
   "id": "50fd0cea-c737-4f7c-b3a8-98839e804801",
   "metadata": {},
   "outputs": [],
   "source": []
  },
  {
   "cell_type": "code",
   "execution_count": null,
   "id": "7b57207f-f9b9-44e5-895b-23df977d30fb",
   "metadata": {},
   "outputs": [],
   "source": []
  }
 ],
 "metadata": {
  "kernelspec": {
   "display_name": "Python 3 (ipykernel)",
   "language": "python",
   "name": "python3"
  },
  "language_info": {
   "codemirror_mode": {
    "name": "ipython",
    "version": 3
   },
   "file_extension": ".py",
   "mimetype": "text/x-python",
   "name": "python",
   "nbconvert_exporter": "python",
   "pygments_lexer": "ipython3",
   "version": "3.9.7"
  }
 },
 "nbformat": 4,
 "nbformat_minor": 5
}
